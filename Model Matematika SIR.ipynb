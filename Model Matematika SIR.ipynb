{
  "nbformat": 4,
  "nbformat_minor": 0,
  "metadata": {
    "colab": {
      "provenance": []
    },
    "kernelspec": {
      "name": "python3",
      "display_name": "Python 3"
    },
    "language_info": {
      "name": "python"
    }
  },
  "cells": [
    {
      "cell_type": "code",
      "execution_count": 4,
      "metadata": {
        "colab": {
          "base_uri": "https://localhost:8080/",
          "height": 265
        },
        "id": "KyiZEc2dsIxJ",
        "outputId": "06f8371a-5701-4a12-a91e-0eb6a0eb00ba"
      },
      "outputs": [
        {
          "output_type": "display_data",
          "data": {
            "text/plain": [
              "<Figure size 432x288 with 1 Axes>"
            ],
            "image/png": "[encoded data removed]"
          },
          "metadata": {
            "needs_background": "light"
          }
        }
      ],
      "source": [
        "import numpy as np              \n",
        "import matplotlib.pyplot as plt\n",
        "\n",
        "t0 = 0\n",
        "tn = 700\n",
        "ndata = 10000\n",
        "\n",
        "t = np.linspace(t0,tn,ndata)\n",
        "h = t[2]-t[1]\n",
        "\n",
        "N = 1000            #rakyat\n",
        "I0 = 1\n",
        "R0 = 0\n",
        "S0 = N - I0 - R0\n",
        "\n",
        "I = np.zeros(ndata)\n",
        "S = np.zeros(ndata)\n",
        "R = np.zeros(ndata)\n",
        "\n",
        "I[0] = I0\n",
        "S[0] = S0\n",
        "R[0] = R0\n",
        "\n",
        "Beta = 0.2\n",
        "Gamma = 0.1\n",
        "\n",
        "for v in range(0, ndata-1):\n",
        "    S[v+1] = S[v] - h*Beta/N*S[v]*I[v]\n",
        "    I[v+1] = I[v] + h*Beta/N*S[v]*I[v] - h*Gamma*I[v]\n",
        "    R[v+1] = R[v] + h*Gamma*I[v]\n",
        "\n",
        "plt.plot(t,S,label='S')\n",
        "plt.plot(t,I,label='I')\n",
        "plt.plot(t,R,label='R')\n",
        "\n",
        "plt.legend()\n",
        "plt.show()\n"
      ]
    }
  ]
}